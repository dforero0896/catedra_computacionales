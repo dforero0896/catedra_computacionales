{
 "cells": [
  {
   "cell_type": "markdown",
   "metadata": {},
   "source": [
    "# Ecuaciones diferenciales de segundo orden\n",
    "## Diferencias finitas"
   ]
  },
  {
   "cell_type": "code",
   "execution_count": 1,
   "metadata": {},
   "outputs": [],
   "source": [
    "# Importar librerias necesarias\n",
    "import numpy as np\n",
    "import matplotlib.pyplot as plt\n",
    "\n"
   ]
  },
  {
   "cell_type": "markdown",
   "metadata": {},
   "source": [
    "El método de diferencias finitas consiste en aproximar la derivada de una función de manera discreta.\n",
    "Recordemos la definición de derivada de una función $f(x)$:\n",
    "$$ \\frac{df}{dx} = \\lim_{\\Delta x\\rightarrow 0} \\frac{f(x+\\Delta x) - f(x)}{\\Delta x}$$\n",
    "La segunda derivada se aproxima, siguiendo la misma lógica, de esta manera:\n",
    "$$ \\frac{d^2f}{dx^2} = \\lim_{\\Delta x\\rightarrow 0} \\frac{f(x+\\Delta x) - 2 f(x) + f(x-\\Delta x)}{\\Delta x^2}$$\n",
    "Estas definiciones se extienden a funciones de varias variables $f(x_i)$, $i=1, ..., N$:\n",
    "$$ \\frac{\\partial f}{\\partial x_i} = \\lim_{\\Delta x_i\\rightarrow 0} \\frac{f(x_i+\\Delta x_i, x_{j\\neq i}) - f(x_i, x_{j\\neq i})}{\\Delta x_i}$$\n",
    "$$ \\frac{\\partial ^2f}{\\partial x_i^2} = \\lim_{\\Delta x_i\\rightarrow 0} \\frac{f(x_i+\\Delta x_i, x_{j\\neq i}) - 2 f(x_i, x_{j\\neq i}) + f(x_i-\\Delta x_i, x_{j\\neq i})}{\\Delta x_i^2}$$\n",
    "\n",
    "De esta manera tenemos las piezas para ensamblar la solucion a una ecuación diferencial de segundo orden, por ejemplo la ecuación de difusion:"
   ]
  },
  {
   "cell_type": "markdown",
   "metadata": {},
   "source": [
    "## Ecuación de Difusión"
   ]
  },
  {
   "cell_type": "markdown",
   "metadata": {},
   "source": [
    "La ecuación de difusión es una ecuación de segundo orden en el espacio y de primer orden en el tiempo (como la ecuación de Schrodinger) y es común en problemas relacionados con materiales ya que describe como cambia la temperatura o la concentración de un material en función del tiempo, por ejemplo."
   ]
  },
  {
   "cell_type": "markdown",
   "metadata": {},
   "source": [
    "La ecuación es:\n",
    "$$ D\\left(\\frac{\\partial^2 f}{\\partial x^2} + \\frac{\\partial^2 f}{\\partial y^2} \\right) = \\frac{\\partial f}{\\partial t}$$\n",
    "Que discretizamos de la siuguiente manera, donce el indice $k$ denota tiempo, $i$ coordenada $x$ y $j$ coordenada $y$:\n",
    "$$f(x+\\Delta x, y, t) = f^k_{i+1,j}$$\n",
    "$$f(y+\\Delta y, x, t) = f^k_{i,j+1}$$\n",
    "$$f(t+\\Delta t, x, y) = f^{k+1}_{i,j}$$\n",
    "\n",
    "$$ D\\left( \\frac{f_{i+1, j}^{k} - 2f_{i, j}^{k} + f_{i-1, j}^{k}}{\\Delta x^2} + \\frac{f_{i, j+1}^{k} - 2f_{i, j}^{k} + f_{i, j-1}^{k}}{\\Delta y^2} \\right) = \\frac{f_{i, j}^{k+1} - f_{i, j}^{k}}{\\Delta t}$$\n",
    "\n",
    "Como queremos conocer el estado de la lámina en un tiempo siguiente, despejamos\n",
    "$$ \\Delta t D\\left( \\frac{f_{i+1, j}^{k} - 2f_{i, j}^{k} + f_{i-1, j}^{k}}{\\Delta x^2} + \\frac{f_{i, j+1}^{k} - 2f_{i, j}^{k} + f_{i, j-1}^{k}}{\\Delta y^2} \\right)  + f_{i, j}^{k} = f_{i, j}^{k+1}$$"
   ]
  },
  {
   "cell_type": "code",
   "execution_count": 10,
   "metadata": {},
   "outputs": [],
   "source": [
    "#Se definen los parámetros a utilizar en la solución de la ecuación diferencial.\n",
    "Nt=100000 #número de iteraciones/tiempos.\n",
    "tmin=0. #tiempo inicial\n",
    "tmax=1249. #tiempo final\n",
    "dt=(tmax-tmin)/Nt #espaciamiento entre instantes de tiempo\n",
    "Nl=100 #número de elementos de espacio (amplitud de la red)\n",
    "xmin=-10. #\\\n",
    "xmax=10. #- intervalo de integración en x\n",
    "ymin=-10.#- intervalo de integración en y\n",
    "ymax=10.  #/\n",
    "xcoords=np.linspace(xmin, xmax, Nl) #arreglos con las cordenadas en x\n",
    "ycoords=np.linspace(ymin, ymax, Nl) #arreglos con las coordenadas en y\n",
    "dx=(xmax-xmin)/Nl #espaciamiento entre coordenadas x.\n",
    "dy=(ymax-ymin)/Nl #espaciamiento entre coordenadas y.\n",
    "\n",
    "D=np.exp(-1e3/473.) \n"
   ]
  },
  {
   "cell_type": "code",
   "execution_count": 13,
   "metadata": {},
   "outputs": [],
   "source": [
    "lamina=np.zeros([Nt, Nl, Nl])\n",
    "lamina[0, :, 0]=10\n",
    "lamina[0, :, -1]=10\n",
    "lamina[0, -1, :]=10\n",
    "lamina[0, 0, :]=10"
   ]
  },
  {
   "cell_type": "code",
   "execution_count": 14,
   "metadata": {},
   "outputs": [
    {
     "name": "stdout",
     "output_type": "stream",
     "text": [
      "10000\n",
      "20000\n",
      "30000\n",
      "40000\n",
      "50000\n",
      "60000\n",
      "70000\n",
      "80000\n",
      "90000\n"
     ]
    }
   ],
   "source": [
    "#Se soluciona la ecuaciín diferencial con el método de relajación\n",
    "for i in range(1, Nt):\n",
    "    if i%10000==0:\n",
    "        print(i)\n",
    "    laminapasado=lamina[i-1]\n",
    "    lamina[i]=dt*D*((np.roll(laminapasado, -1, axis=0) - 2*laminapasado + np.roll(laminapasado, 1, axis=0))/dx**2 + \\\n",
    "                     (np.roll(laminapasado, -1, axis=1) - 2*laminapasado + np.roll(laminapasado, 1, axis=1))/dy**2) + \\\n",
    "                    laminapasado\n",
    "    lamina[i, :, 0]=10\n",
    "    lamina[i, :, -1]=10\n",
    "    lamina[i, -1, :]=10\n",
    "    lamina[i, 0, :]=10\n"
   ]
  },
  {
   "cell_type": "code",
   "execution_count": 15,
   "metadata": {},
   "outputs": [
    {
     "data": {
      "text/plain": [
       "Text(0.5, 0, 'Final')"
      ]
     },
     "execution_count": 15,
     "metadata": {},
     "output_type": "execute_result"
    },
    {
     "data": {
      "image/png": "[encoded data removed]",
      "text/plain": [
       "<Figure size 1440x720 with 2 Axes>"
      ]
     },
     "metadata": {
      "needs_background": "light"
     },
     "output_type": "display_data"
    }
   ],
   "source": [
    "fig, ax = plt.subplots(1, 2, figsize=(20, 10))\n",
    "ax[0].imshow(lamina[0, :, :])\n",
    "ax[1].imshow(lamina[-1, :, :])\n",
    "ax[0].set_xlabel('Inicio')\n",
    "ax[-1].set_xlabel('Final')"
   ]
  },
  {
   "cell_type": "code",
   "execution_count": 16,
   "metadata": {},
   "outputs": [
    {
     "name": "stderr",
     "output_type": "stream",
     "text": [
      "/home/daniel/anaconda3/lib/python3.7/site-packages/IPython/core/display.py:701: UserWarning: Consider using IPython.display.IFrame instead\n",
      "  warnings.warn(\"Consider using IPython.display.IFrame instead\")\n"
     ]
    },
    {
     "data": {
      "text/html": [
       "<iframe width=\"560\" height=\"315\" src=\"https://www.youtube.com/embed/QW7pN0IHmjg\" frameborder=\"0\" allow=\"accelerometer; autoplay; encrypted-media; gyroscope; picture-in-picture\" allowfullscreen></iframe>"
      ],
      "text/plain": [
       "<IPython.core.display.HTML object>"
      ]
     },
     "execution_count": 16,
     "metadata": {},
     "output_type": "execute_result"
    }
   ],
   "source": [
    "from IPython.display import HTML\n",
    "\n",
    "# Youtube\n",
    "HTML('<iframe width=\"560\" height=\"315\" src=\"https://www.youtube.com/embed/QW7pN0IHmjg\" frameborder=\"0\" allow=\"accelerometer; autoplay; encrypted-media; gyroscope; picture-in-picture\" allowfullscreen></iframe>')\n"
   ]
  },
  {
   "cell_type": "markdown",
   "metadata": {},
   "source": [
    "Otros métodos son comunes al solucionar ecuaciones diferenciales de segundo orden, en especial, es común convertirlas en un sistema de dos ecuaciones de primer orden acopladas. Lastimosamente el tiempo es muy corto para introducir estas pero adjunto un [link](https://github.com/dforero0896/CSPS_Tasks/blob/master/task1/src/harmosc_euler.cpp) a código que aplica estos métodos."
   ]
  },
  {
   "cell_type": "markdown",
   "metadata": {},
   "source": [
    "Esto se hace introduciendo, por ejemplo\n",
    "$p=\\frac{df}{dx}$\n",
    "de manera que esta ecuacion junto con\n",
    "$\\frac{dp}{dx}=F(f)$\n",
    "completan el sistema. \n",
    "En particular, la segunda ley de newton puede formularse de esta manera:\n",
    "$\\frac{d^2f}{dx}=F(f)$\n",
    "donde $f$ puede verse como la posición y $x$ el tiempo."
   ]
  },
  {
   "cell_type": "code",
   "execution_count": null,
   "metadata": {},
   "outputs": [],
   "source": []
  }
 ],
 "metadata": {
  "kernelspec": {
   "display_name": "Python 3",
   "language": "python",
   "name": "python3"
  },
  "language_info": {
   "codemirror_mode": {
    "name": "ipython",
    "version": 3
   },
   "file_extension": ".py",
   "mimetype": "text/x-python",
   "name": "python",
   "nbconvert_exporter": "python",
   "pygments_lexer": "ipython3",
   "version": "3.7.4"
  }
 },
 "nbformat": 4,
 "nbformat_minor": 4
}
