{
 "cells": [
  {
   "cell_type": "markdown",
   "metadata": {},
   "source": [
    "# Regresión lineal"
   ]
  },
  {
   "cell_type": "code",
   "execution_count": 1,
   "metadata": {},
   "outputs": [],
   "source": [
    "import numpy as np \n",
    "import matplotlib.pyplot as plt"
   ]
  },
  {
   "cell_type": "markdown",
   "metadata": {},
   "source": [
    "Las regresiones lineales son muy comunes y versátiles para distintos problemas, en este cuaderno veremos como hacerlas fácilemente en Python. El estudiante debe estar familiarizado con Mínimos cuadrados (tema de Algebra Lineal 1)."
   ]
  },
  {
   "cell_type": "code",
   "execution_count": 14,
   "metadata": {},
   "outputs": [
    {
     "data": {
      "text/plain": [
       "[<matplotlib.lines.Line2D at 0x7f5c38f70bd0>]"
      ]
     },
     "execution_count": 14,
     "metadata": {},
     "output_type": "execute_result"
    },
    {
     "data": {
      "image/png": "[encoded data removed]",
      "text/plain": [
       "<Figure size 432x288 with 1 Axes>"
      ]
     },
     "metadata": {
      "needs_background": "light"
     },
     "output_type": "display_data"
    }
   ],
   "source": [
    "# Crear datos\n",
    "np.random.seed(42)\n",
    "x = np.random.random(100)\n",
    "slope_0 = 3\n",
    "intercept_0 = 10\n",
    "\n",
    "y_clean = slope_0 * x + intercept_0 #Simple function\n",
    "\n",
    "y_noise = y_clean + (np.random.random(100) -0.5 ) #Simple uniform noise\n",
    "plt.plot(x, y_clean)\n",
    "plt.plot(x, y_noise, 'ob')"
   ]
  },
  {
   "cell_type": "markdown",
   "metadata": {},
   "source": [
    "Librerías dotadas de algoritmos para hacer regresiones lineales hay en abundancia, numpy, scipy y sklearn son solo algunos ejemplos. En este caso veremos scipy:\n"
   ]
  },
  {
   "cell_type": "code",
   "execution_count": 16,
   "metadata": {},
   "outputs": [
    {
     "name": "stdout",
     "output_type": "stream",
     "text": [
      "Slope fit 2.966468356120381, Intercept fit 10.013597656401032\n",
      "Slope real 3, Intercept real 10\n"
     ]
    }
   ],
   "source": [
    "from scipy import stats\n",
    "slope, intercept, r_value, p_value, std_err = stats.linregress(x, y_noise)\n",
    "print(f\"Slope fit {slope}, Intercept fit {intercept}\")\n",
    "print(f\"Slope real {slope_0}, Intercept real {intercept_0}\")"
   ]
  },
  {
   "cell_type": "markdown",
   "metadata": {},
   "source": [
    "Podemos ver que el método funciona bien. Este método en particular también nos brinda información extra como el valor $r$, $p$ y el error estándar en la estimación."
   ]
  },
  {
   "cell_type": "markdown",
   "metadata": {},
   "source": [
    "No obstante también podemos construir nuestra regresión lineal para entender mejor lo que sucede en estos casos. Volviendo al curso de álgebra lineal 1 podrán recordar el método de mínimos cuadrados o Least-squares que consiste en minimizar un costo (o loss) de la forma\n",
    "$$L = \\sum_n^N \\frac{(f(x_n) - y_n)^2}{2N}$$\n",
    "Donde tenemon $N$ diferentes puntos indexados por $n$. Esto es equivalente a escribir\n",
    "$$L = \\frac{1}{2N}\\vec{e}\\cdot\\vec{e}$$\n",
    "donde las componentes de $\\vec{e}$ son $e_n = y_n - f(x_n)$. \n",
    "Para ello utilizamos la ecuación normal:\n",
    "$$\\frac{\\partial L}{\\partial x} =0$$"
   ]
  },
  {
   "cell_type": "markdown",
   "metadata": {},
   "source": [
    "Imagine que tenemos un modelo lineal $$f(x_n) = w_0 + w_1x_n = (w_0, w_1)\\cdot(1, x_n)^T=x_{n,i}w_{i}$$\n",
    "La matrix de componentes $x_{i,n}$ , $X$, se denomina matriz de diseño y tiene $N$ filas para $N$ puntos o muestras y tiene en este caso 2 columnas para las potencias de $x$ de nuestro modelo (0,1).\n",
    "La ecuación normal es entonces\n",
    "$$0=\\frac{1}{N}X^T\\vec{e} = \\frac{1}{N}\\sum_n e_nx_{n,i}$$\n",
    "$$ X^T\\vec{y} = X^TX\\vec{w}$$\n",
    "donde podemos reconocer la matriz de Gram. Si ésta es invertible podemos despejar los parámetros óptimos del modelo $\\vec{w}$ pero en general es mejor utilizar algun método para solucionar ecuaciones lineales:"
   ]
  },
  {
   "cell_type": "code",
   "execution_count": 25,
   "metadata": {},
   "outputs": [
    {
     "name": "stdout",
     "output_type": "stream",
     "text": [
      "Slope fit 2.9664683561203846, Intercept fit 10.013597656401032\n",
      "Slope real 3, Intercept real 10\n"
     ]
    }
   ],
   "source": [
    "X = np.c_[np.ones_like(x), x]\n",
    "\n",
    "w = np.linalg.solve(X.T.dot(X), X.T.dot(y_noise))\n",
    "print(f\"Slope fit {w[1]}, Intercept fit {w[0]}\")\n",
    "print(f\"Slope real {slope_0}, Intercept real {intercept_0}\")"
   ]
  },
  {
   "cell_type": "code",
   "execution_count": 26,
   "metadata": {},
   "outputs": [
    {
     "name": "stderr",
     "output_type": "stream",
     "text": [
      "/home/daniel/anaconda3/lib/python3.7/site-packages/IPython/core/display.py:701: UserWarning: Consider using IPython.display.IFrame instead\n",
      "  warnings.warn(\"Consider using IPython.display.IFrame instead\")\n"
     ]
    },
    {
     "data": {
      "text/html": [
       "<iframe width=\"560\" height=\"315\" src=\"https://www.youtube.com/embed/JsthE-hPQE0\" frameborder=\"0\" allow=\"accelerometer; autoplay; encrypted-media; gyroscope; picture-in-picture\" allowfullscreen></iframe>"
      ],
      "text/plain": [
       "<IPython.core.display.HTML object>"
      ]
     },
     "execution_count": 26,
     "metadata": {},
     "output_type": "execute_result"
    }
   ],
   "source": [
    "from IPython.display import HTML\n",
    "\n",
    "# Youtube\n",
    "HTML('<iframe width=\"560\" height=\"315\" src=\"https://www.youtube.com/embed/JsthE-hPQE0\" frameborder=\"0\" allow=\"accelerometer; autoplay; encrypted-media; gyroscope; picture-in-picture\" allowfullscreen></iframe>')\n"
   ]
  },
  {
   "cell_type": "code",
   "execution_count": null,
   "metadata": {},
   "outputs": [],
   "source": []
  }
 ],
 "metadata": {
  "kernelspec": {
   "display_name": "Python 3",
   "language": "python",
   "name": "python3"
  },
  "language_info": {
   "codemirror_mode": {
    "name": "ipython",
    "version": 3
   },
   "file_extension": ".py",
   "mimetype": "text/x-python",
   "name": "python",
   "nbconvert_exporter": "python",
   "pygments_lexer": "ipython3",
   "version": "3.7.4"
  }
 },
 "nbformat": 4,
 "nbformat_minor": 4
}
